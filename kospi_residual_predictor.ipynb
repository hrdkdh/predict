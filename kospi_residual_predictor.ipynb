{
 "cells": [
  {
   "cell_type": "markdown",
   "metadata": {},
   "source": [
    "## 1. 모델링"
   ]
  },
  {
   "cell_type": "markdown",
   "metadata": {},
   "source": [
    "사전설정 (모델 훈련과 예측 모두 공통)"
   ]
  },
  {
   "cell_type": "code",
   "execution_count": null,
   "metadata": {},
   "outputs": [],
   "source": [
    "import os\n",
    "\n",
    "model_save_path = \"saved_model2\"\n",
    "model_resi_save_path = \"{}/residual_model\".format(model_save_path)\n",
    "# cols = [\"KOSPI\", \"KOSPI_VOL\", \"CR\", \"GOLD\", \"NASDAQ\", \"DOW\", \"NIKKEI\", \"SHANGHAI\", \"INDI\", \"FOREIGN\", \"ORG\"]\n",
    "# cols = [\"KOSPI\", \"KOSPI_VOL\", \"CR\", \"GOLD\", \"NASDAQ\", \"DOW\", \"NIKKEI\", \"SHANGHAI\"]\n",
    "cols = [\"KOSPI\", \"KOSPI_HIGH\", \"KOSPI_LOW\"]\n",
    "len_x_ARMA = 30\n",
    "len_y_nextday = 20\n",
    "scale_method = \"norm\"\n",
    "\n",
    "# 패키지 캐시 모두 지우기 (tf 등 이전에 남은 가비지가 영향을 미칠 수 있음)\n",
    "for dir_ in [\"/Users/hrdkdh/Documents/GitHub/predict/\", \"/Users/hrdkdh/venv/\"]:\n",
    "    os.system(\"find {} | grep -E '(__pycache__|\\.pyc$|\\pyo$)' | xargs rm -rf\".format(dir_))"
   ]
  },
  {
   "cell_type": "markdown",
   "metadata": {},
   "source": [
    "1-1) 데이터 크롤링"
   ]
  },
  {
   "cell_type": "code",
   "execution_count": null,
   "metadata": {},
   "outputs": [],
   "source": [
    "from kospi_predict import Crawler\n",
    "\n",
    "crawler = Crawler(crawl_page_max=30, perPage=100)\n",
    "# crawler.crawlData(cols, save=True)\n",
    "crawler.loadFromSavedFile(cols)\n",
    "df_crawled = crawler.removeNan()\n",
    "df_crawled = df_crawled.loc[:2000]\n",
    "df_crawled"
   ]
  },
  {
   "cell_type": "markdown",
   "metadata": {},
   "source": [
    "1-2. 데이터 전처리"
   ]
  },
  {
   "cell_type": "code",
   "execution_count": null,
   "metadata": {},
   "outputs": [],
   "source": [
    "from kospi_predict import DataPreprocessor\n",
    "\n",
    "dpp = DataPreprocessor(df_crawled, cols, scale_method, model_save_path)\n",
    "dpp.sortByDate()\n",
    "dpp.makeDiffRatio()\n",
    "dpp.scalingForPredict()\n",
    "dpp.makeAR(0, len_x_ARMA)\n",
    "dpp.makeMA(2, len_x_ARMA)\n",
    "dpp.makeTargetYs(len_y_nextday)\n",
    "dpp.cutoffData(len_x_ARMA, len_y_nextday)"
   ]
  },
  {
   "cell_type": "code",
   "execution_count": null,
   "metadata": {},
   "outputs": [],
   "source": [
    "#저장된 x_cols_info.txt 파일로 drop 하기\n",
    "import json\n",
    "\n",
    "x_cols_str = open(\"kospi_predictor_model/{}/x_cols_info.txt\".format(model_save_path), \"r\").readlines()[0]\n",
    "x_cols = json.loads(x_cols_str)\n",
    "remove_cols = [x for x in dpp.df.columns.to_list() if \"X_\" in x and x not in x_cols]\n",
    "dpp.df.drop(columns=remove_cols, inplace=True)"
   ]
  },
  {
   "cell_type": "code",
   "execution_count": null,
   "metadata": {},
   "outputs": [],
   "source": [
    "dpp.splitData()\n",
    "# dpp.df.to_excel(\"processed_data.xlsx\", index=False)\n",
    "dpp.df"
   ]
  },
  {
   "cell_type": "markdown",
   "metadata": {},
   "source": [
    "1-3) 예측 모델로 추론한 후 예측 결과값을 dpp.df에 다시 concat"
   ]
  },
  {
   "cell_type": "code",
   "execution_count": null,
   "metadata": {},
   "outputs": [],
   "source": [
    "from kospi_predict import Predictor\n",
    "\n",
    "#dpp.df 행별로 20일치를 예측하고 concat해야 함"
   ]
  },
  {
   "cell_type": "markdown",
   "metadata": {},
   "source": [
    "## 2. 예측값을 새로운 X변수로 하여 새로운 모델을 생성"
   ]
  },
  {
   "cell_type": "markdown",
   "metadata": {},
   "source": [
    "2-1) 모델링"
   ]
  },
  {
   "cell_type": "code",
   "execution_count": null,
   "metadata": {},
   "outputs": [],
   "source": [
    "#"
   ]
  },
  {
   "cell_type": "markdown",
   "metadata": {},
   "source": [
    "2-2) 모델 검증하여 에러값을 확인, 잔차가 더 줄었는지 확인한다."
   ]
  },
  {
   "cell_type": "code",
   "execution_count": null,
   "metadata": {},
   "outputs": [],
   "source": [
    "#"
   ]
  },
  {
   "cell_type": "markdown",
   "metadata": {},
   "source": [
    "2-3) 최신 데이터로 예측"
   ]
  },
  {
   "cell_type": "code",
   "execution_count": null,
   "metadata": {},
   "outputs": [],
   "source": [
    "#최근일 기준으로 20일 뒤까지 예측하고 시각화\n"
   ]
  },
  {
   "cell_type": "code",
   "execution_count": null,
   "metadata": {},
   "outputs": [],
   "source": [
    "#실제 기록과 예측값을 비교하여 예측이 얼마나 잘 맞는지 확인한다\n"
   ]
  },
  {
   "cell_type": "code",
   "execution_count": null,
   "metadata": {},
   "outputs": [],
   "source": [
    "#모델을 tensorflow js 파일로 변환하여 저장\n"
   ]
  }
 ],
 "metadata": {
  "interpreter": {
   "hash": "0530d812bce21266ed0dbaca22ce01bfbc14419fd071bb3047eb2300fe2d62a0"
  },
  "kernelspec": {
   "display_name": "Python 3.8.2 ('venv_tf')",
   "language": "python",
   "name": "python3"
  },
  "language_info": {
   "codemirror_mode": {
    "name": "ipython",
    "version": 3
   },
   "file_extension": ".py",
   "mimetype": "text/x-python",
   "name": "python",
   "nbconvert_exporter": "python",
   "pygments_lexer": "ipython3",
   "version": "3.9.10"
  },
  "orig_nbformat": 4
 },
 "nbformat": 4,
 "nbformat_minor": 2
}
