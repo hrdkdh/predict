{
 "cells": [
  {
   "cell_type": "markdown",
   "metadata": {},
   "source": [
    "## 1. 모델링"
   ]
  },
  {
   "cell_type": "markdown",
   "metadata": {},
   "source": [
    "사전설정 (모델 훈련과 예측 모두 공통)"
   ]
  },
  {
   "cell_type": "code",
   "execution_count": null,
   "metadata": {},
   "outputs": [],
   "source": [
    "import os\n",
    "\n",
    "model_save_path = \"saved_model1\"\n",
    "# cols = [\"KOSPI\", \"CR\", \"NASDAQ\", \"DOW\", \"NIKKEI\", \"SHANGHAI\", \"INDI\", \"FOREIGN\", \"ORG\"]\n",
    "cols = [\"KOSPI\", \"CR\", \"NASDAQ\", \"DOW\", \"NIKKEI\", \"SHANGHAI\"]\n",
    "len_x_ARMA = 10\n",
    "len_y_nextday = 20\n",
    "scale_method = \"norm\"\n",
    "\n",
    "# 패키지 캐시 모두 지우기 (tf 등 이전에 남은 가비지가 영향을 미칠 수 있음)\n",
    "for dir_ in [\"/Users/hrdkdh/Documents/GitHub/predict/\", \"/Users/hrdkdh/venv/\"]:\n",
    "    os.system(\"find {} | grep -E '(__pycache__|\\.pyc$|\\pyo$)' | xargs rm -rf\".format(dir_))"
   ]
  },
  {
   "cell_type": "markdown",
   "metadata": {},
   "source": [
    "1-1) 데이터 크롤링"
   ]
  },
  {
   "cell_type": "code",
   "execution_count": null,
   "metadata": {},
   "outputs": [],
   "source": [
    "from kospi_predict import Crawler\n",
    "\n",
    "crawler = Crawler(crawl_page_max=50, perPage=100)\n",
    "# crawler.crawlData(cols, save=True)\n",
    "crawler.loadFromSavedFile(cols)\n",
    "df_crawled = crawler.removeNan()\n",
    "df_crawled"
   ]
  },
  {
   "cell_type": "markdown",
   "metadata": {},
   "source": [
    "1-2. 데이터 전처리"
   ]
  },
  {
   "cell_type": "code",
   "execution_count": null,
   "metadata": {},
   "outputs": [],
   "source": [
    "from kospi_predict import DataPreprocessor\n",
    "\n",
    "dpp = DataPreprocessor(df_crawled, cols, scale_method, model_save_path)\n",
    "# dpp.removeOutlier()\n",
    "dpp.sortByDate()\n",
    "dpp.scalingForModeling()\n",
    "dpp.makeTargetXs(len_x_ARMA)\n",
    "dpp.makeTargetYs(len_y_nextday)\n",
    "dpp.cutoffData(len_x_ARMA, len_y_nextday)\n",
    "# dpp.cutoffData(1000, len_y_nextday)\n",
    "dpp.splitData()\n",
    "dpp.df_cutoff"
   ]
  },
  {
   "cell_type": "markdown",
   "metadata": {},
   "source": [
    "1-3) 모델 훈련하고 생성"
   ]
  },
  {
   "cell_type": "code",
   "execution_count": null,
   "metadata": {},
   "outputs": [],
   "source": [
    "from kospi_predict import ModelMaker\n",
    "\n",
    "maker = ModelMaker(dpp.y_list, dpp.df_train, dpp.df_test, \"relu\", model_save_path)\n",
    "maker.makeModel(EPOCHS=450, history_plot_cutoff=30, learning_rate=0.0008)"
   ]
  },
  {
   "cell_type": "code",
   "execution_count": null,
   "metadata": {},
   "outputs": [],
   "source": [
    "maker.saveModelByCheckpoint(\"0285\")\n",
    "maker.validateModel(y_no=0)"
   ]
  },
  {
   "cell_type": "code",
   "execution_count": null,
   "metadata": {},
   "outputs": [],
   "source": [
    "print(maker.test_mae)\n",
    "print(maker.test_mse)"
   ]
  },
  {
   "cell_type": "markdown",
   "metadata": {},
   "source": [
    "## 2. 최근 데이터로 20일 간의 KOSPI 지수 예측"
   ]
  },
  {
   "cell_type": "markdown",
   "metadata": {},
   "source": [
    "2-1) 데이터 수집"
   ]
  },
  {
   "cell_type": "code",
   "execution_count": null,
   "metadata": {},
   "outputs": [],
   "source": [
    "from kospi_predict import Crawler\n",
    "\n",
    "#예측을 위해서는 현재기준 이전 10일간의 데이터만 있으면 됨 (len_x_ARMA가 10일때)\n",
    "crawler_pred = Crawler(crawl_page_max=1, perPage=50) #이전 추세도 볼겸 넉넉히 수집\n",
    "crawler_pred.crawlData(cols)\n",
    "df_crawled_pred = crawler_pred.removeNan()\n",
    "df_crawled_pred"
   ]
  },
  {
   "cell_type": "markdown",
   "metadata": {},
   "source": [
    "2-2) 데이터 전처리"
   ]
  },
  {
   "cell_type": "code",
   "execution_count": null,
   "metadata": {},
   "outputs": [],
   "source": [
    "from kospi_predict import DataPreprocessor\n",
    "\n",
    "#아래는 예측을 위한 전처리\n",
    "dpp_pred = DataPreprocessor(df_crawled_pred, cols, scale_method, model_save_path)\n",
    "dpp_pred.sortByDate()\n",
    "dpp_pred.scalingForPredict()\n",
    "dpp_pred.makeTargetXs(len_x_ARMA)\n",
    "dpp_pred.cutoffData(len_x_ARMA, 0)"
   ]
  },
  {
   "cell_type": "markdown",
   "metadata": {},
   "source": [
    "2-3) 예측"
   ]
  },
  {
   "cell_type": "code",
   "execution_count": null,
   "metadata": {},
   "outputs": [],
   "source": [
    "from kospi_predict import Predictor\n",
    "\n",
    "#2.18 기준으로 20일 뒤까지 예측하고 시각화\n",
    "\n",
    "predictor = Predictor(dpp_pred.df, scaled=True, scale_method = scale_method, model_save_path=model_save_path)\n",
    "predictor.predict()\n",
    "predictor.showPredictionPlot()"
   ]
  },
  {
   "cell_type": "code",
   "execution_count": null,
   "metadata": {},
   "outputs": [],
   "source": [
    "len(predictor.x_cols)\n",
    "predictor.saveModelToJS()"
   ]
  }
 ],
 "metadata": {
  "interpreter": {
   "hash": "0530d812bce21266ed0dbaca22ce01bfbc14419fd071bb3047eb2300fe2d62a0"
  },
  "kernelspec": {
   "display_name": "Python 3.8.2 ('venv_tf')",
   "language": "python",
   "name": "python3"
  },
  "language_info": {
   "codemirror_mode": {
    "name": "ipython",
    "version": 3
   },
   "file_extension": ".py",
   "mimetype": "text/x-python",
   "name": "python",
   "nbconvert_exporter": "python",
   "pygments_lexer": "ipython3",
   "version": "3.9.10"
  },
  "orig_nbformat": 4
 },
 "nbformat": 4,
 "nbformat_minor": 2
}
